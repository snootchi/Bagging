{
  "nbformat": 4,
  "nbformat_minor": 0,
  "metadata": {
    "colab": {
      "name": "Ensemble_Learning_DifferentsMLModels_WithVotting.ipynb",
      "provenance": []
    },
    "kernelspec": {
      "name": "python3",
      "display_name": "Python 3"
    },
    "language_info": {
      "name": "python"
    }
  },
  "cells": [
    {
      "cell_type": "markdown",
      "source": [
        "###**Importing NecessaryLibaries**"
      ],
      "metadata": {
        "id": "1rsQ8TJyClA1"
      }
    },
    {
      "cell_type": "code",
      "execution_count": 1,
      "metadata": {
        "id": "qc37miqoCa3V"
      },
      "outputs": [],
      "source": [
        "import pandas as pd\n",
        "import numpy as np \n",
        "from sklearn.model_selection import train_test_split"
      ]
    },
    {
      "cell_type": "markdown",
      "source": [
        "###**Importing dataset inbuility from Sklearn**"
      ],
      "metadata": {
        "id": "lvrNTfOnC4qw"
      }
    },
    {
      "cell_type": "code",
      "source": [
        "from sklearn.datasets import load_digits\n"
      ],
      "metadata": {
        "id": "9-arbJn3C-oV"
      },
      "execution_count": 2,
      "outputs": []
    },
    {
      "cell_type": "markdown",
      "source": [
        "Here X specifies the features and Y the labels"
      ],
      "metadata": {
        "id": "uTpzW-7kDIKs"
      }
    },
    {
      "cell_type": "code",
      "source": [
        "X,Y = load_digits(n_class=10 , return_X_y=True)"
      ],
      "metadata": {
        "id": "WIpBeAcZDPgZ"
      },
      "execution_count": 3,
      "outputs": []
    },
    {
      "cell_type": "code",
      "source": [
        "X , Y"
      ],
      "metadata": {
        "colab": {
          "base_uri": "https://localhost:8080/"
        },
        "id": "OwlPcfHVDYRG",
        "outputId": "780c3a8d-818f-42cd-bfc7-764b90fa3ef0"
      },
      "execution_count": 7,
      "outputs": [
        {
          "output_type": "execute_result",
          "data": {
            "text/plain": [
              "(array([[ 0.,  0.,  5., ...,  0.,  0.,  0.],\n",
              "        [ 0.,  0.,  0., ..., 10.,  0.,  0.],\n",
              "        [ 0.,  0.,  0., ..., 16.,  9.,  0.],\n",
              "        ...,\n",
              "        [ 0.,  0.,  1., ...,  6.,  0.,  0.],\n",
              "        [ 0.,  0.,  2., ..., 12.,  0.,  0.],\n",
              "        [ 0.,  0., 10., ..., 12.,  1.,  0.]]), array([0, 1, 2, ..., 8, 9, 8]))"
            ]
          },
          "metadata": {},
          "execution_count": 7
        }
      ]
    },
    {
      "cell_type": "markdown",
      "source": [
        "###**Splitting the dataset into train and test**"
      ],
      "metadata": {
        "id": "_cCikt_XDi52"
      }
    },
    {
      "cell_type": "code",
      "source": [
        "X_train , X_test , Y_train , Y_test = train_test_split(X,Y,test_size=0.2)"
      ],
      "metadata": {
        "id": "sxlebOUuDpY3"
      },
      "execution_count": 8,
      "outputs": []
    },
    {
      "cell_type": "code",
      "source": [
        "print('the Number of samples in train is : ' , len(X_train))\n",
        "print('the Number of samples in test is : ' , len(X_test))\n"
      ],
      "metadata": {
        "colab": {
          "base_uri": "https://localhost:8080/"
        },
        "id": "Rb2yVu_aD2Y0",
        "outputId": "d5c655ae-2664-46ad-b14d-b2c5ca5fa86b"
      },
      "execution_count": 9,
      "outputs": [
        {
          "output_type": "stream",
          "name": "stdout",
          "text": [
            "the Number of samples in train is :  1437\n",
            "the Number of samples in test is :  360\n"
          ]
        }
      ]
    },
    {
      "cell_type": "markdown",
      "source": [
        "###**Creating DecisionTreeClassifier Model and fit to train data**"
      ],
      "metadata": {
        "id": "MH-oXdMVEIR8"
      }
    },
    {
      "cell_type": "code",
      "source": [
        "from sklearn.tree import DecisionTreeClassifier\n",
        "clf = DecisionTreeClassifier()\n",
        "clf.fit(X_train,Y_train)"
      ],
      "metadata": {
        "colab": {
          "base_uri": "https://localhost:8080/"
        },
        "id": "UE-mOvQIEOlh",
        "outputId": "dfec6833-2286-47f0-8553-f3c041a68e2c"
      },
      "execution_count": 10,
      "outputs": [
        {
          "output_type": "execute_result",
          "data": {
            "text/plain": [
              "DecisionTreeClassifier()"
            ]
          },
          "metadata": {},
          "execution_count": 10
        }
      ]
    },
    {
      "cell_type": "markdown",
      "source": [
        "***Checking Score in Train***"
      ],
      "metadata": {
        "id": "k8DEsC8_Em9O"
      }
    },
    {
      "cell_type": "code",
      "source": [
        "clf.score(X_train,Y_train)"
      ],
      "metadata": {
        "colab": {
          "base_uri": "https://localhost:8080/"
        },
        "id": "_wdjJ2R9Ei2d",
        "outputId": "5ab003af-15d6-4122-e8fc-fc2b863e9bba"
      },
      "execution_count": 11,
      "outputs": [
        {
          "output_type": "execute_result",
          "data": {
            "text/plain": [
              "1.0"
            ]
          },
          "metadata": {},
          "execution_count": 11
        }
      ]
    },
    {
      "cell_type": "markdown",
      "source": [
        "***Here you can see that score is 1 for train because the model has already seen all this data***"
      ],
      "metadata": {
        "id": "U7QhoT09E1Wg"
      }
    },
    {
      "cell_type": "markdown",
      "source": [
        "***Cheking Score in Test***"
      ],
      "metadata": {
        "id": "rkXj9bnlFJ9U"
      }
    },
    {
      "cell_type": "code",
      "source": [
        "clf.score(X_test,Y_test)"
      ],
      "metadata": {
        "colab": {
          "base_uri": "https://localhost:8080/"
        },
        "id": "ll1ijGWOFDGe",
        "outputId": "d56cb94b-ff95-45be-8319-7d091418ca8f"
      },
      "execution_count": 12,
      "outputs": [
        {
          "output_type": "execute_result",
          "data": {
            "text/plain": [
              "0.8666666666666667"
            ]
          },
          "metadata": {},
          "execution_count": 12
        }
      ]
    },
    {
      "cell_type": "markdown",
      "source": [
        "***Here We got 0.866 with unseen data[test data]***"
      ],
      "metadata": {
        "id": "NiRV0KbUFRnp"
      }
    },
    {
      "cell_type": "markdown",
      "source": [
        "###**Trying with Random Forest[i.e Group of Decision Tree]**"
      ],
      "metadata": {
        "id": "qc2pxXI4Fhue"
      }
    },
    {
      "cell_type": "code",
      "source": [
        "from sklearn.ensemble import RandomForestClassifier , AdaBoostClassifier , VotingClassifier"
      ],
      "metadata": {
        "id": "KR2h7y0iFrUl"
      },
      "execution_count": 13,
      "outputs": []
    },
    {
      "cell_type": "code",
      "source": [
        "rf = RandomForestClassifier(n_estimators=10)\n",
        "rf.fit(X_train,Y_train)"
      ],
      "metadata": {
        "colab": {
          "base_uri": "https://localhost:8080/"
        },
        "id": "iBHQDvjSF0d-",
        "outputId": "0c329505-107b-4562-c266-3a9889a70972"
      },
      "execution_count": 14,
      "outputs": [
        {
          "output_type": "execute_result",
          "data": {
            "text/plain": [
              "RandomForestClassifier(n_estimators=10)"
            ]
          },
          "metadata": {},
          "execution_count": 14
        }
      ]
    },
    {
      "cell_type": "code",
      "source": [
        "rf.score(X_train,Y_train)"
      ],
      "metadata": {
        "colab": {
          "base_uri": "https://localhost:8080/"
        },
        "id": "6D-NaKtRF9En",
        "outputId": "68396784-180f-42db-d6ff-1da901ddc008"
      },
      "execution_count": 15,
      "outputs": [
        {
          "output_type": "execute_result",
          "data": {
            "text/plain": [
              "0.9972164231036882"
            ]
          },
          "metadata": {},
          "execution_count": 15
        }
      ]
    },
    {
      "cell_type": "code",
      "source": [
        "rf.score(X_test,Y_test)"
      ],
      "metadata": {
        "colab": {
          "base_uri": "https://localhost:8080/"
        },
        "id": "0oZl5y2qGF1E",
        "outputId": "cfb26f56-29fa-4ff5-89c2-0ac4b6da9898"
      },
      "execution_count": 16,
      "outputs": [
        {
          "output_type": "execute_result",
          "data": {
            "text/plain": [
              "0.9416666666666667"
            ]
          },
          "metadata": {},
          "execution_count": 16
        }
      ]
    },
    {
      "cell_type": "markdown",
      "source": [
        "***Here we can see that RandomForestClassifier with 10 number of trees gave score of 0.94 which is performing far better than Single Decision Tree , From this we can get one importan interpretation : in the normal Decision Tree is the overfitting because the extreme loss is accuracy very high but validation loss is very low , and that's the overfitting whcih is doing good for train and failing for test***  "
      ],
      "metadata": {
        "id": "HoFRykv2GJGB"
      }
    },
    {
      "cell_type": "markdown",
      "source": [
        "###**Try with Adaboost Classifier**"
      ],
      "metadata": {
        "id": "q2bvH0vHJIcL"
      }
    },
    {
      "cell_type": "code",
      "source": [
        "ad = AdaBoostClassifier(n_estimators=10)\n",
        "ad.fit(X_train,Y_train)"
      ],
      "metadata": {
        "colab": {
          "base_uri": "https://localhost:8080/"
        },
        "id": "8Eip_-taJOe9",
        "outputId": "a2add80d-4dd7-46d7-904a-60b874cd6fc4"
      },
      "execution_count": 17,
      "outputs": [
        {
          "output_type": "execute_result",
          "data": {
            "text/plain": [
              "AdaBoostClassifier(n_estimators=10)"
            ]
          },
          "metadata": {},
          "execution_count": 17
        }
      ]
    },
    {
      "cell_type": "code",
      "source": [
        "ad.score(X_train,Y_train)"
      ],
      "metadata": {
        "colab": {
          "base_uri": "https://localhost:8080/"
        },
        "id": "1wUScsAuJXzd",
        "outputId": "2b90479d-abdb-459a-8d72-cfdf8b842b97"
      },
      "execution_count": 18,
      "outputs": [
        {
          "output_type": "execute_result",
          "data": {
            "text/plain": [
              "0.26235212247738343"
            ]
          },
          "metadata": {},
          "execution_count": 18
        }
      ]
    },
    {
      "cell_type": "code",
      "source": [
        "ad.score(X_test,Y_test)"
      ],
      "metadata": {
        "colab": {
          "base_uri": "https://localhost:8080/"
        },
        "id": "w1D_bxgrJajw",
        "outputId": "d5adfe50-7066-43ca-8658-0cc178cc4c80"
      },
      "execution_count": 19,
      "outputs": [
        {
          "output_type": "execute_result",
          "data": {
            "text/plain": [
              "0.2611111111111111"
            ]
          },
          "metadata": {},
          "execution_count": 19
        }
      ]
    },
    {
      "cell_type": "markdown",
      "source": [
        "***Here we can see that AdaBoost doesn't perform well while compared to other classifiers***"
      ],
      "metadata": {
        "id": "Glonq5eyJg0V"
      }
    },
    {
      "cell_type": "markdown",
      "source": [
        "###**Finally Try with VotingClassifier**"
      ],
      "metadata": {
        "id": "SoKb_e2sJq62"
      }
    },
    {
      "cell_type": "code",
      "source": [
        "from sklearn.linear_model import LogisticRegression\n",
        "from sklearn.svm import SVC"
      ],
      "metadata": {
        "id": "dGOT0iVSJxA7"
      },
      "execution_count": 20,
      "outputs": []
    },
    {
      "cell_type": "markdown",
      "source": [
        "***Grouping Multiple ML Algorithms and find the voting for predicted data points***"
      ],
      "metadata": {
        "id": "RxG-tfX6KJDi"
      }
    },
    {
      "cell_type": "code",
      "source": [
        "lr =LogisticRegression()\n",
        "dt = DecisionTreeClassifier()\n",
        "svm = SVC(kernel='poly' , degree=2)"
      ],
      "metadata": {
        "id": "wc4dTVM7KHaB"
      },
      "execution_count": 21,
      "outputs": []
    },
    {
      "cell_type": "code",
      "source": [
        "vt = VotingClassifier(estimators= [('lr' , lr),('dt' , dt), ('svm', svm)] , voting='hard')\n",
        "vt"
      ],
      "metadata": {
        "colab": {
          "base_uri": "https://localhost:8080/"
        },
        "id": "SNzP_dxyKqfE",
        "outputId": "1aae1ef3-b7fd-4dd8-c827-1a206c341759"
      },
      "execution_count": 24,
      "outputs": [
        {
          "output_type": "execute_result",
          "data": {
            "text/plain": [
              "VotingClassifier(estimators=[('lr', LogisticRegression()),\n",
              "                             ('dt', DecisionTreeClassifier()),\n",
              "                             ('svm', SVC(degree=2, kernel='poly'))])"
            ]
          },
          "metadata": {},
          "execution_count": 24
        }
      ]
    },
    {
      "cell_type": "code",
      "source": [
        "vt.fit(X_train,Y_train)"
      ],
      "metadata": {
        "colab": {
          "base_uri": "https://localhost:8080/"
        },
        "id": "BQKgK1WOLKw1",
        "outputId": "ab974947-4092-4c40-cac6-517ab41c5f4a"
      },
      "execution_count": 25,
      "outputs": [
        {
          "output_type": "stream",
          "name": "stderr",
          "text": [
            "/usr/local/lib/python3.7/dist-packages/sklearn/linear_model/_logistic.py:818: ConvergenceWarning: lbfgs failed to converge (status=1):\n",
            "STOP: TOTAL NO. of ITERATIONS REACHED LIMIT.\n",
            "\n",
            "Increase the number of iterations (max_iter) or scale the data as shown in:\n",
            "    https://scikit-learn.org/stable/modules/preprocessing.html\n",
            "Please also refer to the documentation for alternative solver options:\n",
            "    https://scikit-learn.org/stable/modules/linear_model.html#logistic-regression\n",
            "  extra_warning_msg=_LOGISTIC_SOLVER_CONVERGENCE_MSG,\n"
          ]
        },
        {
          "output_type": "execute_result",
          "data": {
            "text/plain": [
              "VotingClassifier(estimators=[('lr', LogisticRegression()),\n",
              "                             ('dt', DecisionTreeClassifier()),\n",
              "                             ('svm', SVC(degree=2, kernel='poly'))])"
            ]
          },
          "metadata": {},
          "execution_count": 25
        }
      ]
    },
    {
      "cell_type": "code",
      "source": [
        "vt.score(X_train,Y_train)"
      ],
      "metadata": {
        "colab": {
          "base_uri": "https://localhost:8080/"
        },
        "id": "NnpDzcM8LT9W",
        "outputId": "3efcfadf-9613-4979-a562-a4d15286da65"
      },
      "execution_count": 26,
      "outputs": [
        {
          "output_type": "execute_result",
          "data": {
            "text/plain": [
              "1.0"
            ]
          },
          "metadata": {},
          "execution_count": 26
        }
      ]
    },
    {
      "cell_type": "code",
      "source": [
        "vt.score(X_test,Y_test)"
      ],
      "metadata": {
        "colab": {
          "base_uri": "https://localhost:8080/"
        },
        "id": "WUoeOYWeLXQh",
        "outputId": "8334780c-5e6f-4d72-b5ea-fff15c340d81"
      },
      "execution_count": 27,
      "outputs": [
        {
          "output_type": "execute_result",
          "data": {
            "text/plain": [
              "0.9805555555555555"
            ]
          },
          "metadata": {},
          "execution_count": 27
        }
      ]
    },
    {
      "cell_type": "markdown",
      "source": [
        "***From the above , we can see that Voting Classifier Outperformed all others*** "
      ],
      "metadata": {
        "id": "VrDR5uZ8LmRF"
      }
    }
  ]
}